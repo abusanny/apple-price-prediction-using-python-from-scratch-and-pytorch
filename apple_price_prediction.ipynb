{
  "nbformat": 4,
  "nbformat_minor": 0,
  "metadata": {
    "colab": {
      "provenance": []
    },
    "kernelspec": {
      "name": "python3",
      "display_name": "Python 3"
    },
    "language_info": {
      "name": "python"
    }
  },
  "cells": [
    {
      "cell_type": "markdown",
      "source": [],
      "metadata": {
        "id": "leuSmn6aFbtl"
      }
    },
    {
      "cell_type": "code",
      "source": [],
      "metadata": {
        "colab": {
          "base_uri": "https://localhost:8080/"
        },
        "id": "AWJ1b_VmnlQI",
        "outputId": "f23d9b47-1a36-4ded-9952-555f7bcc6ca5"
      },
      "execution_count": 1,
      "outputs": [
        {
          "output_type": "stream",
          "name": "stdout",
          "text": [
            "\u001b[31mERROR: Could not open requirements file: [Errno 2] No such file or directory: 'requirements.txt'\u001b[0m\u001b[31m\n",
            "\u001b[0m"
          ]
        }
      ]
    },
    {
      "cell_type": "markdown",
      "source": [
        "# New Section"
      ],
      "metadata": {
        "id": "xX73BixmoZrn"
      }
    },
    {
      "cell_type": "code",
      "source": [
        "import numpy as np\n",
        "import torch"
      ],
      "metadata": {
        "id": "l4-jhoSsdpI0"
      },
      "execution_count": 42,
      "outputs": []
    },
    {
      "cell_type": "code",
      "source": [
        "# Input (temp, rainfall, humidity)\n",
        "inputs = np.array([[73, 67, 43],\n",
        "                   [91, 88, 64],\n",
        "                   [87, 134, 58],\n",
        "                   [102, 43, 37],\n",
        "                   [69, 96, 70]], dtype='float32')"
      ],
      "metadata": {
        "id": "XhGjKNeXdtuV"
      },
      "execution_count": 12,
      "outputs": []
    },
    {
      "cell_type": "code",
      "source": [
        "# Targets (apples, oranges)\n",
        "targets = np.array([[56, 70],\n",
        "                    [81, 101],\n",
        "                    [119, 133],\n",
        "                    [22, 37],\n",
        "                    [103, 119]], dtype='float32')"
      ],
      "metadata": {
        "id": "QuK-r3THdxX2"
      },
      "execution_count": 13,
      "outputs": []
    },
    {
      "cell_type": "code",
      "source": [
        "# Convert inputs and targets to tensors\n",
        "inputs = torch.from_numpy(inputs)\n",
        "targets = torch.from_numpy(targets)\n",
        "print(inputs)\n",
        "print(targets)"
      ],
      "metadata": {
        "colab": {
          "base_uri": "https://localhost:8080/"
        },
        "id": "Q_7I09g_dxas",
        "outputId": "b0bb0a92-37a3-459a-cd5e-893cf083a4d5"
      },
      "execution_count": 14,
      "outputs": [
        {
          "output_type": "stream",
          "name": "stdout",
          "text": [
            "tensor([[ 73.,  67.,  43.],\n",
            "        [ 91.,  88.,  64.],\n",
            "        [ 87., 134.,  58.],\n",
            "        [102.,  43.,  37.],\n",
            "        [ 69.,  96.,  70.]])\n",
            "tensor([[ 56.,  70.],\n",
            "        [ 81., 101.],\n",
            "        [119., 133.],\n",
            "        [ 22.,  37.],\n",
            "        [103., 119.]])\n"
          ]
        }
      ]
    },
    {
      "cell_type": "code",
      "source": [
        "w=torch.randn(2,3, requires_grad=True)\n",
        "b=torch.randn(2,requires_grad=True)"
      ],
      "metadata": {
        "id": "7n-MKfT2dxdw"
      },
      "execution_count": 15,
      "outputs": []
    },
    {
      "cell_type": "code",
      "source": [
        "print(w)\n",
        "print(b)"
      ],
      "metadata": {
        "colab": {
          "base_uri": "https://localhost:8080/"
        },
        "id": "Cjk3uYH9dxf7",
        "outputId": "c45ff1b8-edd1-47e0-c137-165524f893fd"
      },
      "execution_count": 16,
      "outputs": [
        {
          "output_type": "stream",
          "name": "stdout",
          "text": [
            "tensor([[ 0.3245, -0.1612,  0.7837],\n",
            "        [-0.7727,  1.0760,  1.4809]], requires_grad=True)\n",
            "tensor([-0.8429, -1.7138], requires_grad=True)\n"
          ]
        }
      ]
    },
    {
      "cell_type": "code",
      "source": [
        "def model(x):\n",
        "  return x @ w.t() + b"
      ],
      "metadata": {
        "id": "tn2aN4w3dxiq"
      },
      "execution_count": 17,
      "outputs": []
    },
    {
      "cell_type": "code",
      "source": [
        "preds= model(inputs)\n",
        "print(preds)"
      ],
      "metadata": {
        "colab": {
          "base_uri": "https://localhost:8080/"
        },
        "id": "H9ZqrArEdxk2",
        "outputId": "bbb02d9e-ced3-46b8-faca-2c81a46ba92c"
      },
      "execution_count": 18,
      "outputs": [
        {
          "output_type": "stream",
          "name": "stdout",
          "text": [
            "tensor([[ 45.7461,  77.6555],\n",
            "        [ 64.6598, 117.4435],\n",
            "        [ 51.2453, 161.1465],\n",
            "        [ 54.3238,  20.5376],\n",
            "        [ 60.9327, 151.9360]], grad_fn=<AddBackward0>)\n"
          ]
        }
      ]
    },
    {
      "cell_type": "code",
      "source": [
        "print(targets)"
      ],
      "metadata": {
        "colab": {
          "base_uri": "https://localhost:8080/"
        },
        "id": "w1khop_0gUCB",
        "outputId": "221ccdd1-d731-4941-909a-c07196c9c84a"
      },
      "execution_count": 20,
      "outputs": [
        {
          "output_type": "stream",
          "name": "stdout",
          "text": [
            "tensor([[ 56.,  70.],\n",
            "        [ 81., 101.],\n",
            "        [119., 133.],\n",
            "        [ 22.,  37.],\n",
            "        [103., 119.]])\n"
          ]
        }
      ]
    },
    {
      "cell_type": "code",
      "source": [
        "#MSE\n",
        "def mse(t1,t2):\n",
        "  diff=t1-t2\n",
        "  return torch.sum(diff*diff)/diff.numel()"
      ],
      "metadata": {
        "id": "AfOqQXaVgbjx"
      },
      "execution_count": 21,
      "outputs": []
    },
    {
      "cell_type": "code",
      "source": [
        "#compute the loss\n",
        "loss=mse(preds,targets)\n",
        "print(loss)"
      ],
      "metadata": {
        "colab": {
          "base_uri": "https://localhost:8080/"
        },
        "id": "5ohAOfkThtC5",
        "outputId": "fc366d43-d595-4d27-88ba-85792508d649"
      },
      "execution_count": 23,
      "outputs": [
        {
          "output_type": "stream",
          "name": "stdout",
          "text": [
            "tensor(1025.4341, grad_fn=<DivBackward0>)\n"
          ]
        }
      ]
    },
    {
      "cell_type": "code",
      "source": [
        "#compute gradients\n",
        "loss.backward()"
      ],
      "metadata": {
        "id": "0v4RXTlZh5RJ"
      },
      "execution_count": 24,
      "outputs": []
    },
    {
      "cell_type": "code",
      "source": [
        "print(w)\n",
        "print(w.grad)"
      ],
      "metadata": {
        "colab": {
          "base_uri": "https://localhost:8080/"
        },
        "id": "Dpyihx6Njn2b",
        "outputId": "f775117d-54f2-4f99-9c0f-e5bfd8810b03"
      },
      "execution_count": 25,
      "outputs": [
        {
          "output_type": "stream",
          "name": "stdout",
          "text": [
            "tensor([[ 0.3245, -0.1612,  0.7837],\n",
            "        [-0.7727,  1.0760,  1.4809]], requires_grad=True)\n",
            "tensor([[-1547.1541, -2770.5239, -1433.0388],\n",
            "        [ 1019.4747,  1637.1094,   942.0954]])\n"
          ]
        }
      ]
    },
    {
      "cell_type": "code",
      "source": [
        "preds=model(inputs)\n"
      ],
      "metadata": {
        "id": "Ok26CfE-u_j6"
      },
      "execution_count": 26,
      "outputs": []
    },
    {
      "cell_type": "code",
      "source": [
        "preds"
      ],
      "metadata": {
        "colab": {
          "base_uri": "https://localhost:8080/"
        },
        "id": "1AZx_ax0wCW_",
        "outputId": "02bba7c4-a391-4d81-f29b-d8a125734ca2"
      },
      "execution_count": 27,
      "outputs": [
        {
          "output_type": "execute_result",
          "data": {
            "text/plain": [
              "tensor([[ 45.7461,  77.6555],\n",
              "        [ 64.6598, 117.4435],\n",
              "        [ 51.2453, 161.1465],\n",
              "        [ 54.3238,  20.5376],\n",
              "        [ 60.9327, 151.9360]], grad_fn=<AddBackward0>)"
            ]
          },
          "metadata": {},
          "execution_count": 27
        }
      ]
    },
    {
      "cell_type": "code",
      "source": [
        "w.grad.zero_()\n",
        "b.grad.zero_()\n",
        "print(w.grad)\n",
        "print(b.grad)"
      ],
      "metadata": {
        "colab": {
          "base_uri": "https://localhost:8080/"
        },
        "id": "1sOZMiUiwusG",
        "outputId": "cd6dde22-d3fc-4850-ce18-097eed772f50"
      },
      "execution_count": 29,
      "outputs": [
        {
          "output_type": "stream",
          "name": "stdout",
          "text": [
            "tensor([[0., 0., 0.],\n",
            "        [0., 0., 0.]])\n",
            "tensor([0., 0.])\n"
          ]
        }
      ]
    },
    {
      "cell_type": "code",
      "source": [
        "loss=mse(preds,targets)\n",
        "print(loss)"
      ],
      "metadata": {
        "colab": {
          "base_uri": "https://localhost:8080/"
        },
        "id": "7NJJ29d_wDaI",
        "outputId": "d2286439-45e6-4d38-ffbe-4d734ec7106a"
      },
      "execution_count": 32,
      "outputs": [
        {
          "output_type": "stream",
          "name": "stdout",
          "text": [
            "tensor(1025.4341, grad_fn=<DivBackward0>)\n"
          ]
        }
      ]
    },
    {
      "cell_type": "code",
      "source": [
        "preds=model(inputs)\n",
        "preds"
      ],
      "metadata": {
        "colab": {
          "base_uri": "https://localhost:8080/"
        },
        "id": "KKYeaebuwNbg",
        "outputId": "382f059a-5c7a-41e1-8011-da7288d7badc"
      },
      "execution_count": 31,
      "outputs": [
        {
          "output_type": "execute_result",
          "data": {
            "text/plain": [
              "tensor([[ 45.7461,  77.6555],\n",
              "        [ 64.6598, 117.4435],\n",
              "        [ 51.2453, 161.1465],\n",
              "        [ 54.3238,  20.5376],\n",
              "        [ 60.9327, 151.9360]], grad_fn=<AddBackward0>)"
            ]
          },
          "metadata": {},
          "execution_count": 31
        }
      ]
    },
    {
      "cell_type": "code",
      "source": [
        "loss.backward()\n",
        "print(w.grad)\n",
        "print(b.grad)"
      ],
      "metadata": {
        "colab": {
          "base_uri": "https://localhost:8080/"
        },
        "id": "TmHZUNhFxFhq",
        "outputId": "e764d5b1-0889-415e-eed9-c829eb5a9905"
      },
      "execution_count": 33,
      "outputs": [
        {
          "output_type": "stream",
          "name": "stdout",
          "text": [
            "tensor([[-1547.1541, -2770.5239, -1433.0388],\n",
            "        [ 1019.4747,  1637.1094,   942.0954]])\n",
            "tensor([-20.8185,  13.7438])\n"
          ]
        }
      ]
    },
    {
      "cell_type": "code",
      "source": [
        "with torch.no_grad():\n",
        "  w -=w.grad * 1e-5\n",
        "  b -=b.grad * 1e-5\n",
        "  w.grad.zero_()\n",
        "  b.grad.zero_()"
      ],
      "metadata": {
        "id": "eLn_EzC5xULE"
      },
      "execution_count": 35,
      "outputs": []
    },
    {
      "cell_type": "code",
      "source": [
        "print(w)\n",
        "print(b)"
      ],
      "metadata": {
        "colab": {
          "base_uri": "https://localhost:8080/"
        },
        "id": "Cf7eCTPcy_HH",
        "outputId": "3dc4f64d-74d5-4b86-d3cb-7faccd14d03b"
      },
      "execution_count": 36,
      "outputs": [
        {
          "output_type": "stream",
          "name": "stdout",
          "text": [
            "tensor([[ 0.3400, -0.1335,  0.7980],\n",
            "        [-0.7829,  1.0597,  1.4715]], requires_grad=True)\n",
            "tensor([-0.8427, -1.7140], requires_grad=True)\n"
          ]
        }
      ]
    },
    {
      "cell_type": "code",
      "source": [
        "preds=model(inputs)\n",
        "loss=mse(preds, targets)\n",
        "print(loss)"
      ],
      "metadata": {
        "colab": {
          "base_uri": "https://localhost:8080/"
        },
        "id": "cWsJ8Om-zDze",
        "outputId": "6e30c830-5be0-4752-b180-89bc2785efcf"
      },
      "execution_count": 37,
      "outputs": [
        {
          "output_type": "stream",
          "name": "stdout",
          "text": [
            "tensor(872.4917, grad_fn=<DivBackward0>)\n"
          ]
        }
      ]
    },
    {
      "cell_type": "code",
      "source": [
        "for i in range(1):\n",
        "    preds=model(inputs)\n",
        "    loss=mse(preds,targets)\n",
        "    loss.backward()\n",
        "    with torch.no_grad():\n",
        "        w -=w.grad * 1e-5\n",
        "        b -=b.grad * 1e-5\n",
        "        w.grad.zero_()\n",
        "        b.grad.zero_()"
      ],
      "metadata": {
        "id": "XrOTP_XwzPSp"
      },
      "execution_count": 54,
      "outputs": []
    },
    {
      "cell_type": "code",
      "source": [
        "preds=model(inputs)\n",
        "preds"
      ],
      "metadata": {
        "colab": {
          "base_uri": "https://localhost:8080/"
        },
        "id": "TY04x_a20A8d",
        "outputId": "bb0f8e62-3856-4538-847c-20ede672b142"
      },
      "execution_count": 55,
      "outputs": [
        {
          "output_type": "execute_result",
          "data": {
            "text/plain": [
              "tensor([[ 56.9756,  69.9373],\n",
              "        [ 82.6953, 101.5614],\n",
              "        [117.8845, 131.5237],\n",
              "        [ 20.8677,  36.6359],\n",
              "        [102.7272, 120.5718]], grad_fn=<AddBackward0>)"
            ]
          },
          "metadata": {},
          "execution_count": 55
        }
      ]
    },
    {
      "cell_type": "code",
      "source": [
        "targets"
      ],
      "metadata": {
        "colab": {
          "base_uri": "https://localhost:8080/"
        },
        "id": "yMADmfDX1FDc",
        "outputId": "aba95c32-735d-4973-ac7d-2daed7a7d287"
      },
      "execution_count": 56,
      "outputs": [
        {
          "output_type": "execute_result",
          "data": {
            "text/plain": [
              "tensor([[ 56.,  70.],\n",
              "        [ 81., 101.],\n",
              "        [119., 133.],\n",
              "        [ 22.,  37.],\n",
              "        [103., 119.]])"
            ]
          },
          "metadata": {},
          "execution_count": 56
        }
      ]
    },
    {
      "cell_type": "code",
      "source": [
        "import torch.nn as nn"
      ],
      "metadata": {
        "id": "LzG0pSMn1Gnz"
      },
      "execution_count": 57,
      "outputs": []
    },
    {
      "cell_type": "code",
      "source": [
        "inputs = np.array([[73, 67, 43], [91, 88, 64], [87, 134, 58],\n",
        "                   [102, 43, 37], [69, 96, 70], [73, 67, 43],\n",
        "                   [91, 88, 64], [87, 134, 58], [102, 43, 37],\n",
        "                   [69, 96, 70], [73, 67, 43], [91, 88, 64],\n",
        "                   [87, 134, 58], [102, 43, 37], [69, 96, 70]],\n",
        "                  dtype='float32')"
      ],
      "metadata": {
        "id": "JTNmomMT1zAp"
      },
      "execution_count": 58,
      "outputs": []
    },
    {
      "cell_type": "code",
      "source": [
        "targets = np.array([[56, 70], [81, 101], [119, 133],\n",
        "                    [22, 37], [103, 119], [56, 70],\n",
        "                    [81, 101], [119, 133], [22, 37],\n",
        "                    [103, 119], [56, 70], [81, 101],\n",
        "                    [119, 133], [22, 37], [103, 119]],\n",
        "                   dtype='float32')"
      ],
      "metadata": {
        "id": "S7064r7F17iT"
      },
      "execution_count": 59,
      "outputs": []
    },
    {
      "cell_type": "code",
      "source": [
        "inputs=torch.from_numpy(inputs)"
      ],
      "metadata": {
        "id": "62ZIsDjC19Bo"
      },
      "execution_count": 60,
      "outputs": []
    },
    {
      "cell_type": "code",
      "source": [
        "inputs"
      ],
      "metadata": {
        "colab": {
          "base_uri": "https://localhost:8080/"
        },
        "id": "s8UjDf8X19EA",
        "outputId": "6c66c917-8a82-498b-d463-ea15c9737e2f"
      },
      "execution_count": 61,
      "outputs": [
        {
          "output_type": "execute_result",
          "data": {
            "text/plain": [
              "tensor([[ 73.,  67.,  43.],\n",
              "        [ 91.,  88.,  64.],\n",
              "        [ 87., 134.,  58.],\n",
              "        [102.,  43.,  37.],\n",
              "        [ 69.,  96.,  70.],\n",
              "        [ 73.,  67.,  43.],\n",
              "        [ 91.,  88.,  64.],\n",
              "        [ 87., 134.,  58.],\n",
              "        [102.,  43.,  37.],\n",
              "        [ 69.,  96.,  70.],\n",
              "        [ 73.,  67.,  43.],\n",
              "        [ 91.,  88.,  64.],\n",
              "        [ 87., 134.,  58.],\n",
              "        [102.,  43.,  37.],\n",
              "        [ 69.,  96.,  70.]])"
            ]
          },
          "metadata": {},
          "execution_count": 61
        }
      ]
    },
    {
      "cell_type": "code",
      "source": [
        "targets=torch.from_numpy(targets)"
      ],
      "metadata": {
        "id": "34p4YrCP19GV"
      },
      "execution_count": 62,
      "outputs": []
    },
    {
      "cell_type": "code",
      "source": [
        "targets"
      ],
      "metadata": {
        "colab": {
          "base_uri": "https://localhost:8080/"
        },
        "id": "0fneQfcj19Iy",
        "outputId": "7b075fd8-0092-4236-b0e1-5cec6af4ebbd"
      },
      "execution_count": 63,
      "outputs": [
        {
          "output_type": "execute_result",
          "data": {
            "text/plain": [
              "tensor([[ 56.,  70.],\n",
              "        [ 81., 101.],\n",
              "        [119., 133.],\n",
              "        [ 22.,  37.],\n",
              "        [103., 119.],\n",
              "        [ 56.,  70.],\n",
              "        [ 81., 101.],\n",
              "        [119., 133.],\n",
              "        [ 22.,  37.],\n",
              "        [103., 119.],\n",
              "        [ 56.,  70.],\n",
              "        [ 81., 101.],\n",
              "        [119., 133.],\n",
              "        [ 22.,  37.],\n",
              "        [103., 119.]])"
            ]
          },
          "metadata": {},
          "execution_count": 63
        }
      ]
    },
    {
      "cell_type": "code",
      "source": [
        "from torch.utils.data import TensorDataset"
      ],
      "metadata": {
        "id": "cqK5a-lF19LW"
      },
      "execution_count": 64,
      "outputs": []
    },
    {
      "cell_type": "code",
      "source": [
        "train_ds=TensorDataset(inputs,targets)"
      ],
      "metadata": {
        "id": "DFEr-Ghl19Nz"
      },
      "execution_count": 65,
      "outputs": []
    },
    {
      "cell_type": "code",
      "source": [
        "train_ds[0:3]"
      ],
      "metadata": {
        "colab": {
          "base_uri": "https://localhost:8080/"
        },
        "id": "767z3Y3N19Qa",
        "outputId": "89ebe4a9-71ac-4473-ec96-eaf9a8fffb7f"
      },
      "execution_count": 66,
      "outputs": [
        {
          "output_type": "execute_result",
          "data": {
            "text/plain": [
              "(tensor([[ 73.,  67.,  43.],\n",
              "         [ 91.,  88.,  64.],\n",
              "         [ 87., 134.,  58.]]),\n",
              " tensor([[ 56.,  70.],\n",
              "         [ 81., 101.],\n",
              "         [119., 133.]]))"
            ]
          },
          "metadata": {},
          "execution_count": 66
        }
      ]
    },
    {
      "cell_type": "code",
      "source": [
        "from torch.utils.data import DataLoader"
      ],
      "metadata": {
        "id": "WOHRrC9l19S9"
      },
      "execution_count": 67,
      "outputs": []
    },
    {
      "cell_type": "code",
      "source": [
        "batch_size = 5\n",
        "train_dl=DataLoader(train_ds, batch_size, shuffle=True)"
      ],
      "metadata": {
        "id": "7deDsAkK19V9"
      },
      "execution_count": 68,
      "outputs": []
    },
    {
      "cell_type": "code",
      "source": [
        "for xb, yb in train_dl:\n",
        "    print(xb)\n",
        "    print(yb)\n",
        "    break"
      ],
      "metadata": {
        "colab": {
          "base_uri": "https://localhost:8080/"
        },
        "id": "dV6XArCh19Yr",
        "outputId": "58affdf8-7765-4f59-8412-241e408d0b2b"
      },
      "execution_count": 70,
      "outputs": [
        {
          "output_type": "stream",
          "name": "stdout",
          "text": [
            "tensor([[ 91.,  88.,  64.],\n",
            "        [ 73.,  67.,  43.],\n",
            "        [ 69.,  96.,  70.],\n",
            "        [ 87., 134.,  58.],\n",
            "        [102.,  43.,  37.]])\n",
            "tensor([[ 81., 101.],\n",
            "        [ 56.,  70.],\n",
            "        [103., 119.],\n",
            "        [119., 133.],\n",
            "        [ 22.,  37.]])\n"
          ]
        }
      ]
    },
    {
      "cell_type": "code",
      "source": [
        "model= nn.Linear(3,2)\n",
        "print(model.weight)\n",
        "print(model.bias)"
      ],
      "metadata": {
        "colab": {
          "base_uri": "https://localhost:8080/"
        },
        "id": "0g-Oh-ix4TVr",
        "outputId": "180992e6-6fce-4f8d-f66a-a78ac5381b32"
      },
      "execution_count": 71,
      "outputs": [
        {
          "output_type": "stream",
          "name": "stdout",
          "text": [
            "Parameter containing:\n",
            "tensor([[-0.3266, -0.0348,  0.0928],\n",
            "        [ 0.0857,  0.2077,  0.3324]], requires_grad=True)\n",
            "Parameter containing:\n",
            "tensor([0.2070, 0.1051], requires_grad=True)\n"
          ]
        }
      ]
    },
    {
      "cell_type": "code",
      "source": [
        "list(model.parameters())"
      ],
      "metadata": {
        "colab": {
          "base_uri": "https://localhost:8080/"
        },
        "id": "VjkaXH9Q7UzL",
        "outputId": "1f35122c-31ee-4b98-a7f1-b358bd6e8fea"
      },
      "execution_count": 72,
      "outputs": [
        {
          "output_type": "execute_result",
          "data": {
            "text/plain": [
              "[Parameter containing:\n",
              " tensor([[-0.3266, -0.0348,  0.0928],\n",
              "         [ 0.0857,  0.2077,  0.3324]], requires_grad=True),\n",
              " Parameter containing:\n",
              " tensor([0.2070, 0.1051], requires_grad=True)]"
            ]
          },
          "metadata": {},
          "execution_count": 72
        }
      ]
    },
    {
      "cell_type": "code",
      "source": [
        "preds=model(inputs)"
      ],
      "metadata": {
        "id": "Eve2joUV7z2q"
      },
      "execution_count": 73,
      "outputs": []
    },
    {
      "cell_type": "code",
      "source": [
        "preds"
      ],
      "metadata": {
        "colab": {
          "base_uri": "https://localhost:8080/"
        },
        "id": "BrzmOCWi8A3n",
        "outputId": "0691335d-7f0d-4378-9343-ceef2d539b17"
      },
      "execution_count": 74,
      "outputs": [
        {
          "output_type": "execute_result",
          "data": {
            "text/plain": [
              "tensor([[-21.9723,  34.5701],\n",
              "        [-26.6316,  47.4553],\n",
              "        [-27.4825,  54.6728],\n",
              "        [-31.1655,  30.0743],\n",
              "        [-19.1679,  49.2273],\n",
              "        [-21.9723,  34.5701],\n",
              "        [-26.6316,  47.4553],\n",
              "        [-27.4825,  54.6728],\n",
              "        [-31.1655,  30.0743],\n",
              "        [-19.1679,  49.2273],\n",
              "        [-21.9723,  34.5701],\n",
              "        [-26.6316,  47.4553],\n",
              "        [-27.4825,  54.6728],\n",
              "        [-31.1655,  30.0743],\n",
              "        [-19.1679,  49.2273]], grad_fn=<AddmmBackward0>)"
            ]
          },
          "metadata": {},
          "execution_count": 74
        }
      ]
    },
    {
      "cell_type": "code",
      "source": [
        "import torch.nn.functional as F"
      ],
      "metadata": {
        "id": "fsSvaG458Cf2"
      },
      "execution_count": 75,
      "outputs": []
    },
    {
      "cell_type": "code",
      "source": [
        "loss_fn=F.mse_loss"
      ],
      "metadata": {
        "id": "7cijBe4W8R6P"
      },
      "execution_count": 76,
      "outputs": []
    },
    {
      "cell_type": "code",
      "source": [
        "loss=loss_fn(model(inputs),targets)\n",
        "print(loss)"
      ],
      "metadata": {
        "colab": {
          "base_uri": "https://localhost:8080/"
        },
        "id": "ErN-Tsei8V8w",
        "outputId": "2055c05d-53cf-4cfe-c58b-37ca937a1ffe"
      },
      "execution_count": 77,
      "outputs": [
        {
          "output_type": "stream",
          "name": "stdout",
          "text": [
            "tensor(7204.6592, grad_fn=<MseLossBackward0>)\n"
          ]
        }
      ]
    },
    {
      "cell_type": "code",
      "source": [
        "opt=torch.optim.SGD(model.parameters(),lr=1e-5)"
      ],
      "metadata": {
        "id": "R5RLm89P8glL"
      },
      "execution_count": 78,
      "outputs": []
    },
    {
      "cell_type": "code",
      "source": [
        "def fit(num_epochs, model, loss_fn, opt, train_dl):\n",
        "    for epoch in range(num_epochs):\n",
        "        for xb,yb in train_dl:\n",
        "            pred=model(xb)\n",
        "            loss=loss_fn(pred,yb)\n",
        "            loss.backward()\n",
        "            opt.step() #update parameters\n",
        "            opt.zero_grad()\n",
        "        if (epoch+1)%100==0:\n",
        "              print('Epoch[{}/{}], Loss:{:4f}'.format(epoch+1, num_epochs, loss.item()))\n",
        "\n",
        "\n",
        ""
      ],
      "metadata": {
        "id": "LR1Gc40r9IGy"
      },
      "execution_count": 81,
      "outputs": []
    },
    {
      "cell_type": "code",
      "source": [
        "fit(10000, model,loss_fn, opt, train_dl)"
      ],
      "metadata": {
        "colab": {
          "base_uri": "https://localhost:8080/"
        },
        "id": "svBxmPZR9IJx",
        "outputId": "2eb06132-019b-471b-c2bf-fb16c2acac72"
      },
      "execution_count": 84,
      "outputs": [
        {
          "output_type": "stream",
          "name": "stdout",
          "text": [
            "Epoch[10/10000], Loss:0.467623\n",
            "Epoch[20/10000], Loss:0.801476\n",
            "Epoch[30/10000], Loss:0.681260\n",
            "Epoch[40/10000], Loss:0.680312\n",
            "Epoch[50/10000], Loss:0.707661\n",
            "Epoch[60/10000], Loss:0.609641\n",
            "Epoch[70/10000], Loss:0.554809\n",
            "Epoch[80/10000], Loss:0.619585\n",
            "Epoch[90/10000], Loss:0.741613\n",
            "Epoch[100/10000], Loss:0.542165\n",
            "Epoch[110/10000], Loss:0.484739\n",
            "Epoch[120/10000], Loss:0.473692\n",
            "Epoch[130/10000], Loss:0.511166\n",
            "Epoch[140/10000], Loss:0.528239\n",
            "Epoch[150/10000], Loss:0.692004\n",
            "Epoch[160/10000], Loss:0.603827\n",
            "Epoch[170/10000], Loss:0.573502\n",
            "Epoch[180/10000], Loss:0.447154\n",
            "Epoch[190/10000], Loss:0.688666\n",
            "Epoch[200/10000], Loss:0.653331\n",
            "Epoch[210/10000], Loss:0.575232\n",
            "Epoch[220/10000], Loss:0.589293\n",
            "Epoch[230/10000], Loss:0.700450\n",
            "Epoch[240/10000], Loss:0.529276\n",
            "Epoch[250/10000], Loss:0.651281\n",
            "Epoch[260/10000], Loss:0.541804\n",
            "Epoch[270/10000], Loss:0.609387\n",
            "Epoch[280/10000], Loss:0.413596\n",
            "Epoch[290/10000], Loss:0.690610\n",
            "Epoch[300/10000], Loss:0.793928\n",
            "Epoch[310/10000], Loss:0.448169\n",
            "Epoch[320/10000], Loss:0.518697\n",
            "Epoch[330/10000], Loss:0.444514\n",
            "Epoch[340/10000], Loss:0.522080\n",
            "Epoch[350/10000], Loss:0.793635\n",
            "Epoch[360/10000], Loss:0.521764\n",
            "Epoch[370/10000], Loss:0.984660\n",
            "Epoch[380/10000], Loss:0.607203\n",
            "Epoch[390/10000], Loss:0.564268\n",
            "Epoch[400/10000], Loss:0.596769\n",
            "Epoch[410/10000], Loss:0.598754\n",
            "Epoch[420/10000], Loss:0.645760\n",
            "Epoch[430/10000], Loss:0.521164\n",
            "Epoch[440/10000], Loss:0.692465\n",
            "Epoch[450/10000], Loss:0.721535\n",
            "Epoch[460/10000], Loss:0.566875\n",
            "Epoch[470/10000], Loss:0.520649\n",
            "Epoch[480/10000], Loss:0.409180\n",
            "Epoch[490/10000], Loss:0.656867\n",
            "Epoch[500/10000], Loss:0.403347\n",
            "Epoch[510/10000], Loss:0.520343\n",
            "Epoch[520/10000], Loss:0.527051\n",
            "Epoch[530/10000], Loss:0.598926\n",
            "Epoch[540/10000], Loss:0.569897\n",
            "Epoch[550/10000], Loss:0.487019\n",
            "Epoch[560/10000], Loss:0.626611\n",
            "Epoch[570/10000], Loss:0.518351\n",
            "Epoch[580/10000], Loss:0.526767\n",
            "Epoch[590/10000], Loss:0.445640\n",
            "Epoch[600/10000], Loss:0.559398\n",
            "Epoch[610/10000], Loss:0.604254\n",
            "Epoch[620/10000], Loss:0.583827\n",
            "Epoch[630/10000], Loss:0.527347\n",
            "Epoch[640/10000], Loss:0.597882\n",
            "Epoch[650/10000], Loss:0.564353\n",
            "Epoch[660/10000], Loss:0.412164\n",
            "Epoch[670/10000], Loss:0.680057\n",
            "Epoch[680/10000], Loss:0.632052\n",
            "Epoch[690/10000], Loss:0.385876\n",
            "Epoch[700/10000], Loss:0.605816\n",
            "Epoch[710/10000], Loss:0.349887\n",
            "Epoch[720/10000], Loss:0.499143\n",
            "Epoch[730/10000], Loss:0.735636\n",
            "Epoch[740/10000], Loss:0.519585\n",
            "Epoch[750/10000], Loss:0.521427\n",
            "Epoch[760/10000], Loss:0.497514\n",
            "Epoch[770/10000], Loss:0.686232\n",
            "Epoch[780/10000], Loss:0.579555\n",
            "Epoch[790/10000], Loss:0.519498\n",
            "Epoch[800/10000], Loss:0.670924\n",
            "Epoch[810/10000], Loss:0.519964\n",
            "Epoch[820/10000], Loss:0.524354\n",
            "Epoch[830/10000], Loss:0.598349\n",
            "Epoch[840/10000], Loss:0.611601\n",
            "Epoch[850/10000], Loss:0.589109\n",
            "Epoch[860/10000], Loss:0.520320\n",
            "Epoch[870/10000], Loss:0.650906\n",
            "Epoch[880/10000], Loss:0.353684\n",
            "Epoch[890/10000], Loss:0.429252\n",
            "Epoch[900/10000], Loss:0.402025\n",
            "Epoch[910/10000], Loss:0.393967\n",
            "Epoch[920/10000], Loss:0.519386\n",
            "Epoch[930/10000], Loss:0.552902\n",
            "Epoch[940/10000], Loss:0.307003\n",
            "Epoch[950/10000], Loss:0.500386\n",
            "Epoch[960/10000], Loss:0.396052\n",
            "Epoch[970/10000], Loss:0.689400\n",
            "Epoch[980/10000], Loss:0.519525\n",
            "Epoch[990/10000], Loss:0.519332\n",
            "Epoch[1000/10000], Loss:0.555528\n",
            "Epoch[1010/10000], Loss:0.553239\n",
            "Epoch[1020/10000], Loss:0.279489\n",
            "Epoch[1030/10000], Loss:0.469934\n",
            "Epoch[1040/10000], Loss:0.519259\n",
            "Epoch[1050/10000], Loss:0.600306\n",
            "Epoch[1060/10000], Loss:0.415434\n",
            "Epoch[1070/10000], Loss:0.364288\n",
            "Epoch[1080/10000], Loss:0.559565\n",
            "Epoch[1090/10000], Loss:0.519250\n",
            "Epoch[1100/10000], Loss:0.807126\n",
            "Epoch[1110/10000], Loss:0.348298\n",
            "Epoch[1120/10000], Loss:0.519328\n",
            "Epoch[1130/10000], Loss:0.607803\n",
            "Epoch[1140/10000], Loss:0.568233\n",
            "Epoch[1150/10000], Loss:0.497020\n",
            "Epoch[1160/10000], Loss:0.616472\n",
            "Epoch[1170/10000], Loss:0.567976\n",
            "Epoch[1180/10000], Loss:0.451031\n",
            "Epoch[1190/10000], Loss:0.687625\n",
            "Epoch[1200/10000], Loss:0.427123\n",
            "Epoch[1210/10000], Loss:0.827362\n",
            "Epoch[1220/10000], Loss:0.674970\n",
            "Epoch[1230/10000], Loss:0.443935\n",
            "Epoch[1240/10000], Loss:0.463368\n",
            "Epoch[1250/10000], Loss:0.659302\n",
            "Epoch[1260/10000], Loss:0.414638\n",
            "Epoch[1270/10000], Loss:0.444866\n",
            "Epoch[1280/10000], Loss:0.449327\n",
            "Epoch[1290/10000], Loss:0.519237\n",
            "Epoch[1300/10000], Loss:0.576988\n",
            "Epoch[1310/10000], Loss:0.491819\n",
            "Epoch[1320/10000], Loss:0.524361\n",
            "Epoch[1330/10000], Loss:0.282406\n",
            "Epoch[1340/10000], Loss:0.491682\n",
            "Epoch[1350/10000], Loss:0.492684\n",
            "Epoch[1360/10000], Loss:0.389378\n",
            "Epoch[1370/10000], Loss:0.364670\n",
            "Epoch[1380/10000], Loss:0.612585\n",
            "Epoch[1390/10000], Loss:0.445487\n",
            "Epoch[1400/10000], Loss:0.588442\n",
            "Epoch[1410/10000], Loss:0.446232\n",
            "Epoch[1420/10000], Loss:0.519236\n",
            "Epoch[1430/10000], Loss:0.687571\n",
            "Epoch[1440/10000], Loss:0.488017\n",
            "Epoch[1450/10000], Loss:0.485913\n",
            "Epoch[1460/10000], Loss:0.519787\n",
            "Epoch[1470/10000], Loss:0.578648\n",
            "Epoch[1480/10000], Loss:0.476976\n",
            "Epoch[1490/10000], Loss:1.027124\n",
            "Epoch[1500/10000], Loss:0.526213\n",
            "Epoch[1510/10000], Loss:0.414932\n",
            "Epoch[1520/10000], Loss:0.813627\n",
            "Epoch[1530/10000], Loss:0.552267\n",
            "Epoch[1540/10000], Loss:0.585574\n",
            "Epoch[1550/10000], Loss:0.494892\n",
            "Epoch[1560/10000], Loss:0.645319\n",
            "Epoch[1570/10000], Loss:0.519273\n",
            "Epoch[1580/10000], Loss:0.519238\n",
            "Epoch[1590/10000], Loss:0.444299\n",
            "Epoch[1600/10000], Loss:0.519209\n",
            "Epoch[1610/10000], Loss:0.554195\n",
            "Epoch[1620/10000], Loss:0.602515\n",
            "Epoch[1630/10000], Loss:0.418117\n",
            "Epoch[1640/10000], Loss:0.470019\n",
            "Epoch[1650/10000], Loss:0.472366\n",
            "Epoch[1660/10000], Loss:0.322164\n",
            "Epoch[1670/10000], Loss:0.562672\n",
            "Epoch[1680/10000], Loss:0.519836\n",
            "Epoch[1690/10000], Loss:0.522101\n",
            "Epoch[1700/10000], Loss:0.522256\n",
            "Epoch[1710/10000], Loss:0.524800\n",
            "Epoch[1720/10000], Loss:0.597124\n",
            "Epoch[1730/10000], Loss:0.526186\n",
            "Epoch[1740/10000], Loss:0.597202\n",
            "Epoch[1750/10000], Loss:0.637885\n",
            "Epoch[1760/10000], Loss:0.418492\n",
            "Epoch[1770/10000], Loss:0.525821\n",
            "Epoch[1780/10000], Loss:0.353354\n",
            "Epoch[1790/10000], Loss:0.524149\n",
            "Epoch[1800/10000], Loss:0.536583\n",
            "Epoch[1810/10000], Loss:0.596933\n",
            "Epoch[1820/10000], Loss:0.416003\n",
            "Epoch[1830/10000], Loss:0.523254\n",
            "Epoch[1840/10000], Loss:0.725512\n",
            "Epoch[1850/10000], Loss:0.443149\n",
            "Epoch[1860/10000], Loss:0.430793\n",
            "Epoch[1870/10000], Loss:0.765094\n",
            "Epoch[1880/10000], Loss:0.597785\n",
            "Epoch[1890/10000], Loss:0.595109\n",
            "Epoch[1900/10000], Loss:0.489268\n",
            "Epoch[1910/10000], Loss:0.581621\n",
            "Epoch[1920/10000], Loss:0.381962\n",
            "Epoch[1930/10000], Loss:0.483880\n",
            "Epoch[1940/10000], Loss:0.354145\n",
            "Epoch[1950/10000], Loss:0.413501\n",
            "Epoch[1960/10000], Loss:0.558891\n",
            "Epoch[1970/10000], Loss:0.519446\n",
            "Epoch[1980/10000], Loss:0.555364\n",
            "Epoch[1990/10000], Loss:0.519223\n",
            "Epoch[2000/10000], Loss:0.410666\n",
            "Epoch[2010/10000], Loss:0.416973\n",
            "Epoch[2020/10000], Loss:0.533535\n",
            "Epoch[2030/10000], Loss:0.444404\n",
            "Epoch[2040/10000], Loss:0.515255\n",
            "Epoch[2050/10000], Loss:0.524878\n",
            "Epoch[2060/10000], Loss:0.646806\n",
            "Epoch[2070/10000], Loss:0.675310\n",
            "Epoch[2080/10000], Loss:0.519445\n",
            "Epoch[2090/10000], Loss:0.388051\n",
            "Epoch[2100/10000], Loss:0.528617\n",
            "Epoch[2110/10000], Loss:0.524586\n",
            "Epoch[2120/10000], Loss:0.631955\n",
            "Epoch[2130/10000], Loss:0.688355\n",
            "Epoch[2140/10000], Loss:0.536478\n",
            "Epoch[2150/10000], Loss:0.613792\n",
            "Epoch[2160/10000], Loss:0.467205\n",
            "Epoch[2170/10000], Loss:0.412371\n",
            "Epoch[2180/10000], Loss:0.715283\n",
            "Epoch[2190/10000], Loss:0.633691\n",
            "Epoch[2200/10000], Loss:0.623873\n",
            "Epoch[2210/10000], Loss:0.518311\n",
            "Epoch[2220/10000], Loss:0.518406\n",
            "Epoch[2230/10000], Loss:0.447465\n",
            "Epoch[2240/10000], Loss:0.488038\n",
            "Epoch[2250/10000], Loss:0.392811\n",
            "Epoch[2260/10000], Loss:0.412373\n",
            "Epoch[2270/10000], Loss:0.806661\n",
            "Epoch[2280/10000], Loss:0.320263\n",
            "Epoch[2290/10000], Loss:0.464571\n",
            "Epoch[2300/10000], Loss:0.598465\n",
            "Epoch[2310/10000], Loss:0.414904\n",
            "Epoch[2320/10000], Loss:0.416871\n",
            "Epoch[2330/10000], Loss:0.526610\n",
            "Epoch[2340/10000], Loss:0.475024\n",
            "Epoch[2350/10000], Loss:0.489864\n",
            "Epoch[2360/10000], Loss:0.819105\n",
            "Epoch[2370/10000], Loss:0.393829\n",
            "Epoch[2380/10000], Loss:0.395760\n",
            "Epoch[2390/10000], Loss:0.489397\n",
            "Epoch[2400/10000], Loss:0.448550\n",
            "Epoch[2410/10000], Loss:0.589989\n",
            "Epoch[2420/10000], Loss:0.613442\n",
            "Epoch[2430/10000], Loss:0.519610\n",
            "Epoch[2440/10000], Loss:0.605052\n",
            "Epoch[2450/10000], Loss:0.551556\n",
            "Epoch[2460/10000], Loss:0.568442\n",
            "Epoch[2470/10000], Loss:0.410975\n",
            "Epoch[2480/10000], Loss:0.563055\n",
            "Epoch[2490/10000], Loss:0.813842\n",
            "Epoch[2500/10000], Loss:0.608173\n",
            "Epoch[2510/10000], Loss:0.343635\n",
            "Epoch[2520/10000], Loss:0.609947\n",
            "Epoch[2530/10000], Loss:0.309238\n",
            "Epoch[2540/10000], Loss:0.673317\n",
            "Epoch[2550/10000], Loss:0.627579\n",
            "Epoch[2560/10000], Loss:0.392024\n",
            "Epoch[2570/10000], Loss:0.491856\n",
            "Epoch[2580/10000], Loss:0.708942\n",
            "Epoch[2590/10000], Loss:0.506538\n",
            "Epoch[2600/10000], Loss:0.592698\n",
            "Epoch[2610/10000], Loss:0.614982\n",
            "Epoch[2620/10000], Loss:0.629530\n",
            "Epoch[2630/10000], Loss:0.625593\n",
            "Epoch[2640/10000], Loss:0.462656\n",
            "Epoch[2650/10000], Loss:0.388251\n",
            "Epoch[2660/10000], Loss:0.553004\n",
            "Epoch[2670/10000], Loss:0.552826\n",
            "Epoch[2680/10000], Loss:0.435175\n",
            "Epoch[2690/10000], Loss:0.302667\n",
            "Epoch[2700/10000], Loss:0.669114\n",
            "Epoch[2710/10000], Loss:0.463368\n",
            "Epoch[2720/10000], Loss:0.591116\n",
            "Epoch[2730/10000], Loss:0.517566\n",
            "Epoch[2740/10000], Loss:0.625842\n",
            "Epoch[2750/10000], Loss:0.647755\n",
            "Epoch[2760/10000], Loss:0.706013\n",
            "Epoch[2770/10000], Loss:0.560251\n",
            "Epoch[2780/10000], Loss:0.622646\n",
            "Epoch[2790/10000], Loss:0.470486\n",
            "Epoch[2800/10000], Loss:0.509103\n",
            "Epoch[2810/10000], Loss:0.586841\n",
            "Epoch[2820/10000], Loss:0.508745\n",
            "Epoch[2830/10000], Loss:0.474781\n",
            "Epoch[2840/10000], Loss:0.679309\n",
            "Epoch[2850/10000], Loss:0.519485\n",
            "Epoch[2860/10000], Loss:0.593176\n",
            "Epoch[2870/10000], Loss:0.484327\n",
            "Epoch[2880/10000], Loss:0.557813\n",
            "Epoch[2890/10000], Loss:0.553300\n",
            "Epoch[2900/10000], Loss:0.449933\n",
            "Epoch[2910/10000], Loss:0.596876\n",
            "Epoch[2920/10000], Loss:0.684954\n",
            "Epoch[2930/10000], Loss:0.520291\n",
            "Epoch[2940/10000], Loss:0.591433\n",
            "Epoch[2950/10000], Loss:0.672394\n",
            "Epoch[2960/10000], Loss:0.443660\n",
            "Epoch[2970/10000], Loss:0.571753\n",
            "Epoch[2980/10000], Loss:0.522079\n",
            "Epoch[2990/10000], Loss:0.493189\n",
            "Epoch[3000/10000], Loss:0.475035\n",
            "Epoch[3010/10000], Loss:0.395566\n",
            "Epoch[3020/10000], Loss:0.596063\n",
            "Epoch[3030/10000], Loss:0.381312\n",
            "Epoch[3040/10000], Loss:0.396508\n",
            "Epoch[3050/10000], Loss:0.392851\n",
            "Epoch[3060/10000], Loss:0.629060\n",
            "Epoch[3070/10000], Loss:0.348556\n",
            "Epoch[3080/10000], Loss:0.673277\n",
            "Epoch[3090/10000], Loss:0.471537\n",
            "Epoch[3100/10000], Loss:0.551534\n",
            "Epoch[3110/10000], Loss:0.555298\n",
            "Epoch[3120/10000], Loss:0.443792\n",
            "Epoch[3130/10000], Loss:0.589431\n",
            "Epoch[3140/10000], Loss:0.620737\n",
            "Epoch[3150/10000], Loss:0.415528\n",
            "Epoch[3160/10000], Loss:0.400634\n",
            "Epoch[3170/10000], Loss:0.500620\n",
            "Epoch[3180/10000], Loss:0.392095\n",
            "Epoch[3190/10000], Loss:0.417700\n",
            "Epoch[3200/10000], Loss:0.510190\n",
            "Epoch[3210/10000], Loss:0.535607\n",
            "Epoch[3220/10000], Loss:0.628154\n",
            "Epoch[3230/10000], Loss:0.409137\n",
            "Epoch[3240/10000], Loss:0.446184\n",
            "Epoch[3250/10000], Loss:0.505421\n",
            "Epoch[3260/10000], Loss:0.675756\n",
            "Epoch[3270/10000], Loss:0.534711\n",
            "Epoch[3280/10000], Loss:0.521541\n",
            "Epoch[3290/10000], Loss:0.703702\n",
            "Epoch[3300/10000], Loss:0.520171\n",
            "Epoch[3310/10000], Loss:0.519072\n",
            "Epoch[3320/10000], Loss:0.738207\n",
            "Epoch[3330/10000], Loss:0.415136\n",
            "Epoch[3340/10000], Loss:0.480557\n",
            "Epoch[3350/10000], Loss:0.445681\n",
            "Epoch[3360/10000], Loss:0.682351\n",
            "Epoch[3370/10000], Loss:0.416223\n",
            "Epoch[3380/10000], Loss:0.627510\n",
            "Epoch[3390/10000], Loss:0.574409\n",
            "Epoch[3400/10000], Loss:0.393965\n",
            "Epoch[3410/10000], Loss:0.445608\n",
            "Epoch[3420/10000], Loss:0.519162\n",
            "Epoch[3430/10000], Loss:0.530374\n",
            "Epoch[3440/10000], Loss:0.306605\n",
            "Epoch[3450/10000], Loss:0.658406\n",
            "Epoch[3460/10000], Loss:0.491975\n",
            "Epoch[3470/10000], Loss:0.583009\n",
            "Epoch[3480/10000], Loss:0.444719\n",
            "Epoch[3490/10000], Loss:0.521461\n",
            "Epoch[3500/10000], Loss:0.624566\n",
            "Epoch[3510/10000], Loss:0.639210\n",
            "Epoch[3520/10000], Loss:0.365074\n",
            "Epoch[3530/10000], Loss:0.444762\n",
            "Epoch[3540/10000], Loss:0.362776\n",
            "Epoch[3550/10000], Loss:0.493024\n",
            "Epoch[3560/10000], Loss:0.614011\n",
            "Epoch[3570/10000], Loss:0.648189\n",
            "Epoch[3580/10000], Loss:0.795587\n",
            "Epoch[3590/10000], Loss:0.272463\n",
            "Epoch[3600/10000], Loss:0.385659\n",
            "Epoch[3610/10000], Loss:0.796931\n",
            "Epoch[3620/10000], Loss:0.598026\n",
            "Epoch[3630/10000], Loss:0.528949\n",
            "Epoch[3640/10000], Loss:0.479251\n",
            "Epoch[3650/10000], Loss:0.519153\n",
            "Epoch[3660/10000], Loss:0.705891\n",
            "Epoch[3670/10000], Loss:0.812279\n",
            "Epoch[3680/10000], Loss:0.695969\n",
            "Epoch[3690/10000], Loss:0.608902\n",
            "Epoch[3700/10000], Loss:0.390285\n",
            "Epoch[3710/10000], Loss:0.420679\n",
            "Epoch[3720/10000], Loss:0.415655\n",
            "Epoch[3730/10000], Loss:0.603499\n",
            "Epoch[3740/10000], Loss:0.389898\n",
            "Epoch[3750/10000], Loss:0.604378\n",
            "Epoch[3760/10000], Loss:0.592716\n",
            "Epoch[3770/10000], Loss:0.488771\n",
            "Epoch[3780/10000], Loss:0.356556\n",
            "Epoch[3790/10000], Loss:0.448875\n",
            "Epoch[3800/10000], Loss:0.685978\n",
            "Epoch[3810/10000], Loss:0.494106\n",
            "Epoch[3820/10000], Loss:0.592275\n",
            "Epoch[3830/10000], Loss:0.624803\n",
            "Epoch[3840/10000], Loss:0.519145\n",
            "Epoch[3850/10000], Loss:0.564030\n",
            "Epoch[3860/10000], Loss:0.624897\n",
            "Epoch[3870/10000], Loss:0.497885\n",
            "Epoch[3880/10000], Loss:0.545378\n",
            "Epoch[3890/10000], Loss:0.415768\n",
            "Epoch[3900/10000], Loss:0.591944\n",
            "Epoch[3910/10000], Loss:0.519394\n",
            "Epoch[3920/10000], Loss:0.416080\n",
            "Epoch[3930/10000], Loss:0.800022\n",
            "Epoch[3940/10000], Loss:0.484140\n",
            "Epoch[3950/10000], Loss:0.669073\n",
            "Epoch[3960/10000], Loss:0.519213\n",
            "Epoch[3970/10000], Loss:0.551689\n",
            "Epoch[3980/10000], Loss:0.582856\n",
            "Epoch[3990/10000], Loss:0.628943\n",
            "Epoch[4000/10000], Loss:0.631863\n",
            "Epoch[4010/10000], Loss:0.524860\n",
            "Epoch[4020/10000], Loss:0.617639\n",
            "Epoch[4030/10000], Loss:0.627940\n",
            "Epoch[4040/10000], Loss:0.487547\n",
            "Epoch[4050/10000], Loss:0.798016\n",
            "Epoch[4060/10000], Loss:0.699002\n",
            "Epoch[4070/10000], Loss:0.707270\n",
            "Epoch[4080/10000], Loss:0.606730\n",
            "Epoch[4090/10000], Loss:0.464347\n",
            "Epoch[4100/10000], Loss:0.678922\n",
            "Epoch[4110/10000], Loss:0.719247\n",
            "Epoch[4120/10000], Loss:0.519144\n",
            "Epoch[4130/10000], Loss:0.526029\n",
            "Epoch[4140/10000], Loss:0.519162\n",
            "Epoch[4150/10000], Loss:0.519179\n",
            "Epoch[4160/10000], Loss:0.684775\n",
            "Epoch[4170/10000], Loss:0.281317\n",
            "Epoch[4180/10000], Loss:0.703123\n",
            "Epoch[4190/10000], Loss:0.519352\n",
            "Epoch[4200/10000], Loss:0.585517\n",
            "Epoch[4210/10000], Loss:0.616749\n",
            "Epoch[4220/10000], Loss:0.681257\n",
            "Epoch[4230/10000], Loss:0.519421\n",
            "Epoch[4240/10000], Loss:0.598786\n",
            "Epoch[4250/10000], Loss:0.421487\n",
            "Epoch[4260/10000], Loss:0.523178\n",
            "Epoch[4270/10000], Loss:0.424952\n",
            "Epoch[4280/10000], Loss:0.616545\n",
            "Epoch[4290/10000], Loss:0.603204\n",
            "Epoch[4300/10000], Loss:0.551562\n",
            "Epoch[4310/10000], Loss:0.513053\n",
            "Epoch[4320/10000], Loss:0.470345\n",
            "Epoch[4330/10000], Loss:0.525252\n",
            "Epoch[4340/10000], Loss:0.596804\n",
            "Epoch[4350/10000], Loss:0.638831\n",
            "Epoch[4360/10000], Loss:0.699580\n",
            "Epoch[4370/10000], Loss:0.651817\n",
            "Epoch[4380/10000], Loss:0.277085\n",
            "Epoch[4390/10000], Loss:0.450549\n",
            "Epoch[4400/10000], Loss:0.429665\n",
            "Epoch[4410/10000], Loss:0.523534\n",
            "Epoch[4420/10000], Loss:0.678358\n",
            "Epoch[4430/10000], Loss:0.359656\n",
            "Epoch[4440/10000], Loss:0.517695\n",
            "Epoch[4450/10000], Loss:0.516453\n",
            "Epoch[4460/10000], Loss:0.605701\n",
            "Epoch[4470/10000], Loss:0.368773\n",
            "Epoch[4480/10000], Loss:0.524063\n",
            "Epoch[4490/10000], Loss:0.520328\n",
            "Epoch[4500/10000], Loss:0.636991\n",
            "Epoch[4510/10000], Loss:0.633700\n",
            "Epoch[4520/10000], Loss:0.552997\n",
            "Epoch[4530/10000], Loss:0.617014\n",
            "Epoch[4540/10000], Loss:0.384267\n",
            "Epoch[4550/10000], Loss:0.465173\n",
            "Epoch[4560/10000], Loss:0.605752\n",
            "Epoch[4570/10000], Loss:0.600038\n",
            "Epoch[4580/10000], Loss:0.525062\n",
            "Epoch[4590/10000], Loss:0.241460\n",
            "Epoch[4600/10000], Loss:0.494543\n",
            "Epoch[4610/10000], Loss:0.396691\n",
            "Epoch[4620/10000], Loss:0.468984\n",
            "Epoch[4630/10000], Loss:0.600770\n",
            "Epoch[4640/10000], Loss:0.644561\n",
            "Epoch[4650/10000], Loss:0.521317\n",
            "Epoch[4660/10000], Loss:0.519546\n",
            "Epoch[4670/10000], Loss:0.518202\n",
            "Epoch[4680/10000], Loss:0.601657\n",
            "Epoch[4690/10000], Loss:0.681038\n",
            "Epoch[4700/10000], Loss:0.668838\n",
            "Epoch[4710/10000], Loss:0.543409\n",
            "Epoch[4720/10000], Loss:0.963334\n",
            "Epoch[4730/10000], Loss:0.412862\n",
            "Epoch[4740/10000], Loss:0.691324\n",
            "Epoch[4750/10000], Loss:0.632072\n",
            "Epoch[4760/10000], Loss:0.677296\n",
            "Epoch[4770/10000], Loss:0.527788\n",
            "Epoch[4780/10000], Loss:0.645703\n",
            "Epoch[4790/10000], Loss:0.635285\n",
            "Epoch[4800/10000], Loss:0.523903\n",
            "Epoch[4810/10000], Loss:0.485542\n",
            "Epoch[4820/10000], Loss:0.519170\n",
            "Epoch[4830/10000], Loss:0.631755\n",
            "Epoch[4840/10000], Loss:0.445329\n",
            "Epoch[4850/10000], Loss:0.616131\n",
            "Epoch[4860/10000], Loss:0.672960\n",
            "Epoch[4870/10000], Loss:0.413605\n",
            "Epoch[4880/10000], Loss:0.349032\n",
            "Epoch[4890/10000], Loss:0.632463\n",
            "Epoch[4900/10000], Loss:0.602876\n",
            "Epoch[4910/10000], Loss:0.622826\n",
            "Epoch[4920/10000], Loss:0.553489\n",
            "Epoch[4930/10000], Loss:0.595224\n",
            "Epoch[4940/10000], Loss:0.519318\n",
            "Epoch[4950/10000], Loss:0.684964\n",
            "Epoch[4960/10000], Loss:0.669014\n",
            "Epoch[4970/10000], Loss:0.348350\n",
            "Epoch[4980/10000], Loss:0.413956\n",
            "Epoch[4990/10000], Loss:0.700339\n",
            "Epoch[5000/10000], Loss:0.676218\n",
            "Epoch[5010/10000], Loss:0.552105\n",
            "Epoch[5020/10000], Loss:0.461304\n",
            "Epoch[5030/10000], Loss:0.435461\n",
            "Epoch[5040/10000], Loss:0.488891\n",
            "Epoch[5050/10000], Loss:0.383322\n",
            "Epoch[5060/10000], Loss:0.552790\n",
            "Epoch[5070/10000], Loss:0.624914\n",
            "Epoch[5080/10000], Loss:0.553078\n",
            "Epoch[5090/10000], Loss:0.674279\n",
            "Epoch[5100/10000], Loss:0.461205\n",
            "Epoch[5110/10000], Loss:0.623248\n",
            "Epoch[5120/10000], Loss:0.414557\n",
            "Epoch[5130/10000], Loss:0.524173\n",
            "Epoch[5140/10000], Loss:0.519157\n",
            "Epoch[5150/10000], Loss:0.817972\n",
            "Epoch[5160/10000], Loss:0.820271\n",
            "Epoch[5170/10000], Loss:0.270599\n",
            "Epoch[5180/10000], Loss:0.519171\n",
            "Epoch[5190/10000], Loss:0.657826\n",
            "Epoch[5200/10000], Loss:0.678498\n",
            "Epoch[5210/10000], Loss:0.553238\n",
            "Epoch[5220/10000], Loss:0.596589\n",
            "Epoch[5230/10000], Loss:0.385872\n",
            "Epoch[5240/10000], Loss:0.493814\n",
            "Epoch[5250/10000], Loss:0.393301\n",
            "Epoch[5260/10000], Loss:0.519131\n",
            "Epoch[5270/10000], Loss:0.415855\n",
            "Epoch[5280/10000], Loss:0.638851\n",
            "Epoch[5290/10000], Loss:0.416510\n",
            "Epoch[5300/10000], Loss:0.519342\n",
            "Epoch[5310/10000], Loss:0.504653\n",
            "Epoch[5320/10000], Loss:0.519249\n",
            "Epoch[5330/10000], Loss:0.576657\n",
            "Epoch[5340/10000], Loss:0.616199\n",
            "Epoch[5350/10000], Loss:0.779409\n",
            "Epoch[5360/10000], Loss:0.427301\n",
            "Epoch[5370/10000], Loss:0.424322\n",
            "Epoch[5380/10000], Loss:0.597804\n",
            "Epoch[5390/10000], Loss:0.560637\n",
            "Epoch[5400/10000], Loss:0.670762\n",
            "Epoch[5410/10000], Loss:0.596759\n",
            "Epoch[5420/10000], Loss:0.467932\n",
            "Epoch[5430/10000], Loss:0.320756\n",
            "Epoch[5440/10000], Loss:0.685515\n",
            "Epoch[5450/10000], Loss:0.444276\n",
            "Epoch[5460/10000], Loss:0.438156\n",
            "Epoch[5470/10000], Loss:0.633857\n",
            "Epoch[5480/10000], Loss:0.768038\n",
            "Epoch[5490/10000], Loss:0.492856\n",
            "Epoch[5500/10000], Loss:0.390870\n",
            "Epoch[5510/10000], Loss:0.554530\n",
            "Epoch[5520/10000], Loss:0.462068\n",
            "Epoch[5530/10000], Loss:0.605780\n",
            "Epoch[5540/10000], Loss:0.519289\n",
            "Epoch[5550/10000], Loss:0.375174\n",
            "Epoch[5560/10000], Loss:0.532762\n",
            "Epoch[5570/10000], Loss:0.388749\n",
            "Epoch[5580/10000], Loss:0.450733\n",
            "Epoch[5590/10000], Loss:0.351507\n",
            "Epoch[5600/10000], Loss:0.534328\n",
            "Epoch[5610/10000], Loss:0.596641\n",
            "Epoch[5620/10000], Loss:0.811200\n",
            "Epoch[5630/10000], Loss:0.500495\n",
            "Epoch[5640/10000], Loss:0.450600\n",
            "Epoch[5650/10000], Loss:0.470934\n",
            "Epoch[5660/10000], Loss:0.468402\n",
            "Epoch[5670/10000], Loss:0.632365\n",
            "Epoch[5680/10000], Loss:0.551468\n",
            "Epoch[5690/10000], Loss:0.524297\n",
            "Epoch[5700/10000], Loss:0.477625\n",
            "Epoch[5710/10000], Loss:0.444053\n",
            "Epoch[5720/10000], Loss:0.346780\n",
            "Epoch[5730/10000], Loss:0.511609\n",
            "Epoch[5740/10000], Loss:0.676186\n",
            "Epoch[5750/10000], Loss:0.667216\n",
            "Epoch[5760/10000], Loss:0.624350\n",
            "Epoch[5770/10000], Loss:0.490348\n",
            "Epoch[5780/10000], Loss:0.416225\n",
            "Epoch[5790/10000], Loss:0.603270\n",
            "Epoch[5800/10000], Loss:0.621662\n",
            "Epoch[5810/10000], Loss:0.649592\n",
            "Epoch[5820/10000], Loss:0.593443\n",
            "Epoch[5830/10000], Loss:0.562574\n",
            "Epoch[5840/10000], Loss:0.615540\n",
            "Epoch[5850/10000], Loss:0.526593\n",
            "Epoch[5860/10000], Loss:0.533938\n",
            "Epoch[5870/10000], Loss:0.519367\n",
            "Epoch[5880/10000], Loss:0.392174\n",
            "Epoch[5890/10000], Loss:0.759286\n",
            "Epoch[5900/10000], Loss:0.397551\n",
            "Epoch[5910/10000], Loss:0.592077\n",
            "Epoch[5920/10000], Loss:0.627608\n",
            "Epoch[5930/10000], Loss:0.524725\n",
            "Epoch[5940/10000], Loss:0.627377\n",
            "Epoch[5950/10000], Loss:0.519483\n",
            "Epoch[5960/10000], Loss:0.400335\n",
            "Epoch[5970/10000], Loss:0.472987\n",
            "Epoch[5980/10000], Loss:0.404674\n",
            "Epoch[5990/10000], Loss:0.671619\n",
            "Epoch[6000/10000], Loss:0.382523\n",
            "Epoch[6010/10000], Loss:0.707781\n",
            "Epoch[6020/10000], Loss:0.484338\n",
            "Epoch[6030/10000], Loss:0.608165\n",
            "Epoch[6040/10000], Loss:0.554433\n",
            "Epoch[6050/10000], Loss:0.624156\n",
            "Epoch[6060/10000], Loss:0.520223\n",
            "Epoch[6070/10000], Loss:0.424990\n",
            "Epoch[6080/10000], Loss:0.494180\n",
            "Epoch[6090/10000], Loss:0.478975\n",
            "Epoch[6100/10000], Loss:0.777182\n",
            "Epoch[6110/10000], Loss:0.630245\n",
            "Epoch[6120/10000], Loss:0.520348\n",
            "Epoch[6130/10000], Loss:0.431874\n",
            "Epoch[6140/10000], Loss:0.596168\n",
            "Epoch[6150/10000], Loss:0.684830\n",
            "Epoch[6160/10000], Loss:0.521982\n",
            "Epoch[6170/10000], Loss:0.767218\n",
            "Epoch[6180/10000], Loss:0.568878\n",
            "Epoch[6190/10000], Loss:0.685187\n",
            "Epoch[6200/10000], Loss:0.669236\n",
            "Epoch[6210/10000], Loss:0.519131\n",
            "Epoch[6220/10000], Loss:0.553007\n",
            "Epoch[6230/10000], Loss:0.449933\n",
            "Epoch[6240/10000], Loss:0.534171\n",
            "Epoch[6250/10000], Loss:0.677368\n",
            "Epoch[6260/10000], Loss:0.383398\n",
            "Epoch[6270/10000], Loss:0.552358\n",
            "Epoch[6280/10000], Loss:0.604484\n",
            "Epoch[6290/10000], Loss:0.519165\n",
            "Epoch[6300/10000], Loss:0.604318\n",
            "Epoch[6310/10000], Loss:0.602082\n",
            "Epoch[6320/10000], Loss:0.448193\n",
            "Epoch[6330/10000], Loss:0.451742\n",
            "Epoch[6340/10000], Loss:0.477313\n",
            "Epoch[6350/10000], Loss:0.688179\n",
            "Epoch[6360/10000], Loss:0.658128\n",
            "Epoch[6370/10000], Loss:0.705301\n",
            "Epoch[6380/10000], Loss:0.598251\n",
            "Epoch[6390/10000], Loss:0.493022\n",
            "Epoch[6400/10000], Loss:0.564772\n",
            "Epoch[6410/10000], Loss:0.416875\n",
            "Epoch[6420/10000], Loss:0.597684\n",
            "Epoch[6430/10000], Loss:0.521460\n",
            "Epoch[6440/10000], Loss:0.681507\n",
            "Epoch[6450/10000], Loss:0.567322\n",
            "Epoch[6460/10000], Loss:0.403751\n",
            "Epoch[6470/10000], Loss:0.506810\n",
            "Epoch[6480/10000], Loss:0.519325\n",
            "Epoch[6490/10000], Loss:0.391290\n",
            "Epoch[6500/10000], Loss:0.603490\n",
            "Epoch[6510/10000], Loss:0.386549\n",
            "Epoch[6520/10000], Loss:0.439719\n",
            "Epoch[6530/10000], Loss:0.427095\n",
            "Epoch[6540/10000], Loss:0.524740\n",
            "Epoch[6550/10000], Loss:0.489530\n",
            "Epoch[6560/10000], Loss:0.595939\n",
            "Epoch[6570/10000], Loss:0.519102\n",
            "Epoch[6580/10000], Loss:0.614264\n",
            "Epoch[6590/10000], Loss:0.676230\n",
            "Epoch[6600/10000], Loss:0.684269\n",
            "Epoch[6610/10000], Loss:0.519478\n",
            "Epoch[6620/10000], Loss:0.600481\n",
            "Epoch[6630/10000], Loss:0.617944\n",
            "Epoch[6640/10000], Loss:0.444027\n",
            "Epoch[6650/10000], Loss:0.519122\n",
            "Epoch[6660/10000], Loss:0.614794\n",
            "Epoch[6670/10000], Loss:0.575861\n",
            "Epoch[6680/10000], Loss:0.534884\n",
            "Epoch[6690/10000], Loss:0.447067\n",
            "Epoch[6700/10000], Loss:0.612126\n",
            "Epoch[6710/10000], Loss:0.569431\n",
            "Epoch[6720/10000], Loss:0.416206\n",
            "Epoch[6730/10000], Loss:0.358234\n",
            "Epoch[6740/10000], Loss:0.627011\n",
            "Epoch[6750/10000], Loss:0.394518\n",
            "Epoch[6760/10000], Loss:0.418649\n",
            "Epoch[6770/10000], Loss:0.589780\n",
            "Epoch[6780/10000], Loss:0.414960\n",
            "Epoch[6790/10000], Loss:0.519459\n",
            "Epoch[6800/10000], Loss:0.519355\n",
            "Epoch[6810/10000], Loss:0.560619\n",
            "Epoch[6820/10000], Loss:0.609093\n",
            "Epoch[6830/10000], Loss:0.409045\n",
            "Epoch[6840/10000], Loss:0.519117\n",
            "Epoch[6850/10000], Loss:0.706663\n",
            "Epoch[6860/10000], Loss:0.445170\n",
            "Epoch[6870/10000], Loss:0.522206\n",
            "Epoch[6880/10000], Loss:0.435424\n",
            "Epoch[6890/10000], Loss:0.492565\n",
            "Epoch[6900/10000], Loss:0.491911\n",
            "Epoch[6910/10000], Loss:0.610832\n",
            "Epoch[6920/10000], Loss:0.825902\n",
            "Epoch[6930/10000], Loss:0.517929\n",
            "Epoch[6940/10000], Loss:0.519077\n",
            "Epoch[6950/10000], Loss:0.554079\n",
            "Epoch[6960/10000], Loss:0.593744\n",
            "Epoch[6970/10000], Loss:0.600735\n",
            "Epoch[6980/10000], Loss:0.491648\n",
            "Epoch[6990/10000], Loss:0.571438\n",
            "Epoch[7000/10000], Loss:0.352430\n",
            "Epoch[7010/10000], Loss:0.518283\n",
            "Epoch[7020/10000], Loss:0.427805\n",
            "Epoch[7030/10000], Loss:0.514359\n",
            "Epoch[7040/10000], Loss:0.594840\n",
            "Epoch[7050/10000], Loss:0.518726\n",
            "Epoch[7060/10000], Loss:0.596336\n",
            "Epoch[7070/10000], Loss:0.475661\n",
            "Epoch[7080/10000], Loss:0.440020\n",
            "Epoch[7090/10000], Loss:0.623284\n",
            "Epoch[7100/10000], Loss:0.399780\n",
            "Epoch[7110/10000], Loss:0.808464\n",
            "Epoch[7120/10000], Loss:0.461050\n",
            "Epoch[7130/10000], Loss:0.529615\n",
            "Epoch[7140/10000], Loss:0.736401\n",
            "Epoch[7150/10000], Loss:0.595117\n",
            "Epoch[7160/10000], Loss:0.379812\n",
            "Epoch[7170/10000], Loss:0.519128\n",
            "Epoch[7180/10000], Loss:0.445044\n",
            "Epoch[7190/10000], Loss:0.358017\n",
            "Epoch[7200/10000], Loss:0.491355\n",
            "Epoch[7210/10000], Loss:0.564173\n",
            "Epoch[7220/10000], Loss:0.519238\n",
            "Epoch[7230/10000], Loss:0.400641\n",
            "Epoch[7240/10000], Loss:0.488224\n",
            "Epoch[7250/10000], Loss:0.600137\n",
            "Epoch[7260/10000], Loss:0.633461\n",
            "Epoch[7270/10000], Loss:0.492734\n",
            "Epoch[7280/10000], Loss:0.572059\n",
            "Epoch[7290/10000], Loss:0.473377\n",
            "Epoch[7300/10000], Loss:0.479396\n",
            "Epoch[7310/10000], Loss:0.599145\n",
            "Epoch[7320/10000], Loss:0.385434\n",
            "Epoch[7330/10000], Loss:0.685988\n",
            "Epoch[7340/10000], Loss:0.537626\n",
            "Epoch[7350/10000], Loss:0.463693\n",
            "Epoch[7360/10000], Loss:0.690672\n",
            "Epoch[7370/10000], Loss:0.678115\n",
            "Epoch[7380/10000], Loss:0.552102\n",
            "Epoch[7390/10000], Loss:0.552355\n",
            "Epoch[7400/10000], Loss:0.519147\n",
            "Epoch[7410/10000], Loss:0.489806\n",
            "Epoch[7420/10000], Loss:0.513716\n",
            "Epoch[7430/10000], Loss:0.493807\n",
            "Epoch[7440/10000], Loss:0.625710\n",
            "Epoch[7450/10000], Loss:0.411916\n",
            "Epoch[7460/10000], Loss:0.468117\n",
            "Epoch[7470/10000], Loss:0.415635\n",
            "Epoch[7480/10000], Loss:0.673766\n",
            "Epoch[7490/10000], Loss:0.591895\n",
            "Epoch[7500/10000], Loss:0.598047\n",
            "Epoch[7510/10000], Loss:0.607012\n",
            "Epoch[7520/10000], Loss:0.551703\n",
            "Epoch[7530/10000], Loss:0.613482\n",
            "Epoch[7540/10000], Loss:0.398210\n",
            "Epoch[7550/10000], Loss:0.519254\n",
            "Epoch[7560/10000], Loss:0.416734\n",
            "Epoch[7570/10000], Loss:0.633307\n",
            "Epoch[7580/10000], Loss:0.379581\n",
            "Epoch[7590/10000], Loss:0.604233\n",
            "Epoch[7600/10000], Loss:0.572163\n",
            "Epoch[7610/10000], Loss:0.602807\n",
            "Epoch[7620/10000], Loss:0.491177\n",
            "Epoch[7630/10000], Loss:0.709647\n",
            "Epoch[7640/10000], Loss:0.493176\n",
            "Epoch[7650/10000], Loss:0.551559\n",
            "Epoch[7660/10000], Loss:0.480612\n",
            "Epoch[7670/10000], Loss:0.519352\n",
            "Epoch[7680/10000], Loss:0.649837\n",
            "Epoch[7690/10000], Loss:0.404757\n",
            "Epoch[7700/10000], Loss:0.371074\n",
            "Epoch[7710/10000], Loss:0.499176\n",
            "Epoch[7720/10000], Loss:0.553684\n",
            "Epoch[7730/10000], Loss:0.620480\n",
            "Epoch[7740/10000], Loss:0.559588\n",
            "Epoch[7750/10000], Loss:0.280589\n",
            "Epoch[7760/10000], Loss:0.615199\n",
            "Epoch[7770/10000], Loss:0.430454\n",
            "Epoch[7780/10000], Loss:0.518380\n",
            "Epoch[7790/10000], Loss:0.445787\n",
            "Epoch[7800/10000], Loss:0.580278\n",
            "Epoch[7810/10000], Loss:0.553092\n",
            "Epoch[7820/10000], Loss:0.498909\n",
            "Epoch[7830/10000], Loss:0.520210\n",
            "Epoch[7840/10000], Loss:0.464625\n",
            "Epoch[7850/10000], Loss:0.777350\n",
            "Epoch[7860/10000], Loss:0.598387\n",
            "Epoch[7870/10000], Loss:0.418466\n",
            "Epoch[7880/10000], Loss:0.385471\n",
            "Epoch[7890/10000], Loss:0.511811\n",
            "Epoch[7900/10000], Loss:0.615871\n",
            "Epoch[7910/10000], Loss:0.586977\n",
            "Epoch[7920/10000], Loss:0.627917\n",
            "Epoch[7930/10000], Loss:0.507422\n",
            "Epoch[7940/10000], Loss:0.556535\n",
            "Epoch[7950/10000], Loss:0.624190\n",
            "Epoch[7960/10000], Loss:0.489731\n",
            "Epoch[7970/10000], Loss:0.637596\n",
            "Epoch[7980/10000], Loss:0.445019\n",
            "Epoch[7990/10000], Loss:0.525903\n",
            "Epoch[8000/10000], Loss:0.666423\n",
            "Epoch[8010/10000], Loss:0.388813\n",
            "Epoch[8020/10000], Loss:0.543367\n",
            "Epoch[8030/10000], Loss:0.628318\n",
            "Epoch[8040/10000], Loss:0.489295\n",
            "Epoch[8050/10000], Loss:0.610398\n",
            "Epoch[8060/10000], Loss:0.356658\n",
            "Epoch[8070/10000], Loss:0.499948\n",
            "Epoch[8080/10000], Loss:0.443926\n",
            "Epoch[8090/10000], Loss:0.595501\n",
            "Epoch[8100/10000], Loss:0.401171\n",
            "Epoch[8110/10000], Loss:0.524647\n",
            "Epoch[8120/10000], Loss:0.489981\n",
            "Epoch[8130/10000], Loss:0.677460\n",
            "Epoch[8140/10000], Loss:0.448700\n",
            "Epoch[8150/10000], Loss:0.525936\n",
            "Epoch[8160/10000], Loss:0.528531\n",
            "Epoch[8170/10000], Loss:0.347908\n",
            "Epoch[8180/10000], Loss:0.483241\n",
            "Epoch[8190/10000], Loss:0.599165\n",
            "Epoch[8200/10000], Loss:0.446535\n",
            "Epoch[8210/10000], Loss:0.386579\n",
            "Epoch[8220/10000], Loss:0.396360\n",
            "Epoch[8230/10000], Loss:0.596696\n",
            "Epoch[8240/10000], Loss:0.494425\n",
            "Epoch[8250/10000], Loss:0.612445\n",
            "Epoch[8260/10000], Loss:0.491659\n",
            "Epoch[8270/10000], Loss:0.444752\n",
            "Epoch[8280/10000], Loss:0.488842\n",
            "Epoch[8290/10000], Loss:0.595580\n",
            "Epoch[8300/10000], Loss:0.438438\n",
            "Epoch[8310/10000], Loss:0.593128\n",
            "Epoch[8320/10000], Loss:0.552045\n",
            "Epoch[8330/10000], Loss:0.519069\n",
            "Epoch[8340/10000], Loss:0.519250\n",
            "Epoch[8350/10000], Loss:0.387148\n",
            "Epoch[8360/10000], Loss:0.488194\n",
            "Epoch[8370/10000], Loss:0.555019\n",
            "Epoch[8380/10000], Loss:0.983098\n",
            "Epoch[8390/10000], Loss:0.395646\n",
            "Epoch[8400/10000], Loss:0.585080\n",
            "Epoch[8410/10000], Loss:0.613453\n",
            "Epoch[8420/10000], Loss:0.629453\n",
            "Epoch[8430/10000], Loss:0.489959\n",
            "Epoch[8440/10000], Loss:0.595234\n",
            "Epoch[8450/10000], Loss:0.630115\n",
            "Epoch[8460/10000], Loss:0.510831\n",
            "Epoch[8470/10000], Loss:0.445559\n",
            "Epoch[8480/10000], Loss:0.642981\n",
            "Epoch[8490/10000], Loss:0.707628\n",
            "Epoch[8500/10000], Loss:0.596659\n",
            "Epoch[8510/10000], Loss:0.590917\n",
            "Epoch[8520/10000], Loss:0.425384\n",
            "Epoch[8530/10000], Loss:0.521926\n",
            "Epoch[8540/10000], Loss:0.604645\n",
            "Epoch[8550/10000], Loss:0.486722\n",
            "Epoch[8560/10000], Loss:0.524835\n",
            "Epoch[8570/10000], Loss:0.511755\n",
            "Epoch[8580/10000], Loss:0.552779\n",
            "Epoch[8590/10000], Loss:0.768761\n",
            "Epoch[8600/10000], Loss:0.552772\n",
            "Epoch[8610/10000], Loss:0.415427\n",
            "Epoch[8620/10000], Loss:0.509811\n",
            "Epoch[8630/10000], Loss:0.597749\n",
            "Epoch[8640/10000], Loss:0.271670\n",
            "Epoch[8650/10000], Loss:0.621669\n",
            "Epoch[8660/10000], Loss:0.516167\n",
            "Epoch[8670/10000], Loss:0.750942\n",
            "Epoch[8680/10000], Loss:0.601929\n",
            "Epoch[8690/10000], Loss:0.558551\n",
            "Epoch[8700/10000], Loss:0.606003\n",
            "Epoch[8710/10000], Loss:0.443465\n",
            "Epoch[8720/10000], Loss:0.541116\n",
            "Epoch[8730/10000], Loss:0.827700\n",
            "Epoch[8740/10000], Loss:0.528936\n",
            "Epoch[8750/10000], Loss:0.276395\n",
            "Epoch[8760/10000], Loss:0.634904\n",
            "Epoch[8770/10000], Loss:0.492435\n",
            "Epoch[8780/10000], Loss:0.519165\n",
            "Epoch[8790/10000], Loss:0.417159\n",
            "Epoch[8800/10000], Loss:0.681635\n",
            "Epoch[8810/10000], Loss:0.610513\n",
            "Epoch[8820/10000], Loss:0.517939\n",
            "Epoch[8830/10000], Loss:0.397242\n",
            "Epoch[8840/10000], Loss:0.577781\n",
            "Epoch[8850/10000], Loss:0.615753\n",
            "Epoch[8860/10000], Loss:0.603636\n",
            "Epoch[8870/10000], Loss:0.551151\n",
            "Epoch[8880/10000], Loss:0.522267\n",
            "Epoch[8890/10000], Loss:0.681084\n",
            "Epoch[8900/10000], Loss:0.358790\n",
            "Epoch[8910/10000], Loss:0.820248\n",
            "Epoch[8920/10000], Loss:0.628808\n",
            "Epoch[8930/10000], Loss:0.489391\n",
            "Epoch[8940/10000], Loss:0.567842\n",
            "Epoch[8950/10000], Loss:0.541304\n",
            "Epoch[8960/10000], Loss:0.475848\n",
            "Epoch[8970/10000], Loss:0.517931\n",
            "Epoch[8980/10000], Loss:0.429839\n",
            "Epoch[8990/10000], Loss:0.390675\n",
            "Epoch[9000/10000], Loss:0.515338\n",
            "Epoch[9010/10000], Loss:0.584422\n",
            "Epoch[9020/10000], Loss:0.520098\n",
            "Epoch[9030/10000], Loss:0.490477\n",
            "Epoch[9040/10000], Loss:0.414851\n",
            "Epoch[9050/10000], Loss:0.733308\n",
            "Epoch[9060/10000], Loss:0.431176\n",
            "Epoch[9070/10000], Loss:0.488129\n",
            "Epoch[9080/10000], Loss:0.445181\n",
            "Epoch[9090/10000], Loss:0.705191\n",
            "Epoch[9100/10000], Loss:0.692129\n",
            "Epoch[9110/10000], Loss:0.596935\n",
            "Epoch[9120/10000], Loss:0.353552\n",
            "Epoch[9130/10000], Loss:0.571498\n",
            "Epoch[9140/10000], Loss:0.418891\n",
            "Epoch[9150/10000], Loss:0.519074\n",
            "Epoch[9160/10000], Loss:0.478235\n",
            "Epoch[9170/10000], Loss:0.487513\n",
            "Epoch[9180/10000], Loss:0.507524\n",
            "Epoch[9190/10000], Loss:0.601435\n",
            "Epoch[9200/10000], Loss:0.519832\n",
            "Epoch[9210/10000], Loss:0.683214\n",
            "Epoch[9220/10000], Loss:0.776498\n",
            "Epoch[9230/10000], Loss:0.519073\n",
            "Epoch[9240/10000], Loss:0.522358\n",
            "Epoch[9250/10000], Loss:0.292031\n",
            "Epoch[9260/10000], Loss:0.677272\n",
            "Epoch[9270/10000], Loss:0.277284\n",
            "Epoch[9280/10000], Loss:0.334790\n",
            "Epoch[9290/10000], Loss:0.817522\n",
            "Epoch[9300/10000], Loss:0.700679\n",
            "Epoch[9310/10000], Loss:0.412128\n",
            "Epoch[9320/10000], Loss:0.493511\n",
            "Epoch[9330/10000], Loss:0.519062\n",
            "Epoch[9340/10000], Loss:0.478199\n",
            "Epoch[9350/10000], Loss:0.519067\n",
            "Epoch[9360/10000], Loss:0.519177\n",
            "Epoch[9370/10000], Loss:0.672248\n",
            "Epoch[9380/10000], Loss:0.705594\n",
            "Epoch[9390/10000], Loss:0.393288\n",
            "Epoch[9400/10000], Loss:0.682991\n",
            "Epoch[9410/10000], Loss:0.529676\n",
            "Epoch[9420/10000], Loss:0.509719\n",
            "Epoch[9430/10000], Loss:0.305516\n",
            "Epoch[9440/10000], Loss:0.536362\n",
            "Epoch[9450/10000], Loss:0.525500\n",
            "Epoch[9460/10000], Loss:0.389179\n",
            "Epoch[9470/10000], Loss:0.627346\n",
            "Epoch[9480/10000], Loss:0.519218\n",
            "Epoch[9490/10000], Loss:0.470154\n",
            "Epoch[9500/10000], Loss:0.492668\n",
            "Epoch[9510/10000], Loss:0.613161\n",
            "Epoch[9520/10000], Loss:0.580378\n",
            "Epoch[9530/10000], Loss:0.384895\n",
            "Epoch[9540/10000], Loss:0.811917\n",
            "Epoch[9550/10000], Loss:0.802967\n",
            "Epoch[9560/10000], Loss:0.571859\n",
            "Epoch[9570/10000], Loss:0.515818\n",
            "Epoch[9580/10000], Loss:0.418194\n",
            "Epoch[9590/10000], Loss:0.517944\n",
            "Epoch[9600/10000], Loss:0.520283\n",
            "Epoch[9610/10000], Loss:0.461984\n",
            "Epoch[9620/10000], Loss:0.429947\n",
            "Epoch[9630/10000], Loss:0.646987\n",
            "Epoch[9640/10000], Loss:0.631780\n",
            "Epoch[9650/10000], Loss:0.443252\n",
            "Epoch[9660/10000], Loss:0.573960\n",
            "Epoch[9670/10000], Loss:0.488655\n",
            "Epoch[9680/10000], Loss:0.363365\n",
            "Epoch[9690/10000], Loss:0.447211\n",
            "Epoch[9700/10000], Loss:0.620730\n",
            "Epoch[9710/10000], Loss:0.507112\n",
            "Epoch[9720/10000], Loss:0.367908\n",
            "Epoch[9730/10000], Loss:0.799703\n",
            "Epoch[9740/10000], Loss:0.595275\n",
            "Epoch[9750/10000], Loss:0.526079\n",
            "Epoch[9760/10000], Loss:0.595554\n",
            "Epoch[9770/10000], Loss:0.523519\n",
            "Epoch[9780/10000], Loss:0.627009\n",
            "Epoch[9790/10000], Loss:0.304964\n",
            "Epoch[9800/10000], Loss:0.385660\n",
            "Epoch[9810/10000], Loss:0.549953\n",
            "Epoch[9820/10000], Loss:0.613490\n",
            "Epoch[9830/10000], Loss:0.849943\n",
            "Epoch[9840/10000], Loss:0.396489\n",
            "Epoch[9850/10000], Loss:0.414351\n",
            "Epoch[9860/10000], Loss:0.629372\n",
            "Epoch[9870/10000], Loss:0.520306\n",
            "Epoch[9880/10000], Loss:0.472794\n",
            "Epoch[9890/10000], Loss:0.419267\n",
            "Epoch[9900/10000], Loss:0.792932\n",
            "Epoch[9910/10000], Loss:0.499594\n",
            "Epoch[9920/10000], Loss:0.527101\n",
            "Epoch[9930/10000], Loss:0.445233\n",
            "Epoch[9940/10000], Loss:0.560715\n",
            "Epoch[9950/10000], Loss:0.570420\n",
            "Epoch[9960/10000], Loss:0.635201\n",
            "Epoch[9970/10000], Loss:0.519234\n",
            "Epoch[9980/10000], Loss:0.598653\n",
            "Epoch[9990/10000], Loss:0.552078\n",
            "Epoch[10000/10000], Loss:0.595732\n"
          ]
        }
      ]
    },
    {
      "cell_type": "code",
      "source": [
        "preds=model(inputs)"
      ],
      "metadata": {
        "id": "yaV7SAs99IMA"
      },
      "execution_count": 85,
      "outputs": []
    },
    {
      "cell_type": "code",
      "source": [
        "preds"
      ],
      "metadata": {
        "colab": {
          "base_uri": "https://localhost:8080/"
        },
        "id": "Oni_ESJa9IOj",
        "outputId": "d6b813a0-c6d7-4ffc-a353-44947d47f77a"
      },
      "execution_count": 86,
      "outputs": [
        {
          "output_type": "execute_result",
          "data": {
            "text/plain": [
              "tensor([[ 57.1833,  70.3307],\n",
              "        [ 82.1646, 100.6668],\n",
              "        [118.6641, 132.9633],\n",
              "        [ 21.0593,  37.0180],\n",
              "        [101.9072, 119.1476],\n",
              "        [ 57.1833,  70.3307],\n",
              "        [ 82.1646, 100.6668],\n",
              "        [118.6641, 132.9633],\n",
              "        [ 21.0593,  37.0180],\n",
              "        [101.9072, 119.1476],\n",
              "        [ 57.1833,  70.3307],\n",
              "        [ 82.1646, 100.6668],\n",
              "        [118.6641, 132.9633],\n",
              "        [ 21.0593,  37.0180],\n",
              "        [101.9072, 119.1476]], grad_fn=<AddmmBackward0>)"
            ]
          },
          "metadata": {},
          "execution_count": 86
        }
      ]
    },
    {
      "cell_type": "code",
      "source": [
        "targets"
      ],
      "metadata": {
        "colab": {
          "base_uri": "https://localhost:8080/"
        },
        "id": "voFbp8iu9IRD",
        "outputId": "d7071aae-11a7-4338-909a-cde623791483"
      },
      "execution_count": 87,
      "outputs": [
        {
          "output_type": "execute_result",
          "data": {
            "text/plain": [
              "tensor([[ 56.,  70.],\n",
              "        [ 81., 101.],\n",
              "        [119., 133.],\n",
              "        [ 22.,  37.],\n",
              "        [103., 119.],\n",
              "        [ 56.,  70.],\n",
              "        [ 81., 101.],\n",
              "        [119., 133.],\n",
              "        [ 22.,  37.],\n",
              "        [103., 119.],\n",
              "        [ 56.,  70.],\n",
              "        [ 81., 101.],\n",
              "        [119., 133.],\n",
              "        [ 22.,  37.],\n",
              "        [103., 119.]])"
            ]
          },
          "metadata": {},
          "execution_count": 87
        }
      ]
    },
    {
      "cell_type": "code",
      "source": [],
      "metadata": {
        "id": "zZJdYEk4Ckmd"
      },
      "execution_count": null,
      "outputs": []
    }
  ]
}